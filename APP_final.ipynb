{
  "cells": [
    {
      "cell_type": "markdown",
      "metadata": {
        "id": "view-in-github",
        "colab_type": "text"
      },
      "source": [
        "<a href=\"https://colab.research.google.com/github/RithikaReddy27/Competitor-Strategy-Tracker-ECommerce/blob/main/APP_final.ipynb\" target=\"_parent\"><img src=\"https://colab.research.google.com/assets/colab-badge.svg\" alt=\"Open In Colab\"/></a>"
      ]
    },
    {
      "cell_type": "code",
      "execution_count": 3,
      "metadata": {
        "colab": {
          "base_uri": "https://localhost:8080/"
        },
        "id": "wI48J_azsW-v",
        "outputId": "fd904f49-23f6-43a9-9341-1b2e1f960729",
        "collapsed": true
      },
      "outputs": [
        {
          "output_type": "stream",
          "name": "stdout",
          "text": [
            "Collecting streamlit\n",
            "  Downloading streamlit-1.42.1-py2.py3-none-any.whl.metadata (8.9 kB)\n",
            "Requirement already satisfied: altair<6,>=4.0 in /usr/local/lib/python3.11/dist-packages (from streamlit) (5.5.0)\n",
            "Requirement already satisfied: blinker<2,>=1.0.0 in /usr/local/lib/python3.11/dist-packages (from streamlit) (1.9.0)\n",
            "Requirement already satisfied: cachetools<6,>=4.0 in /usr/local/lib/python3.11/dist-packages (from streamlit) (5.5.1)\n",
            "Requirement already satisfied: click<9,>=7.0 in /usr/local/lib/python3.11/dist-packages (from streamlit) (8.1.8)\n",
            "Requirement already satisfied: numpy<3,>=1.23 in /usr/local/lib/python3.11/dist-packages (from streamlit) (1.26.4)\n",
            "Requirement already satisfied: packaging<25,>=20 in /usr/local/lib/python3.11/dist-packages (from streamlit) (24.2)\n",
            "Requirement already satisfied: pandas<3,>=1.4.0 in /usr/local/lib/python3.11/dist-packages (from streamlit) (2.2.2)\n",
            "Requirement already satisfied: pillow<12,>=7.1.0 in /usr/local/lib/python3.11/dist-packages (from streamlit) (11.1.0)\n",
            "Requirement already satisfied: protobuf<6,>=3.20 in /usr/local/lib/python3.11/dist-packages (from streamlit) (4.25.6)\n",
            "Requirement already satisfied: pyarrow>=7.0 in /usr/local/lib/python3.11/dist-packages (from streamlit) (17.0.0)\n",
            "Requirement already satisfied: requests<3,>=2.27 in /usr/local/lib/python3.11/dist-packages (from streamlit) (2.32.3)\n",
            "Requirement already satisfied: rich<14,>=10.14.0 in /usr/local/lib/python3.11/dist-packages (from streamlit) (13.9.4)\n",
            "Requirement already satisfied: tenacity<10,>=8.1.0 in /usr/local/lib/python3.11/dist-packages (from streamlit) (9.0.0)\n",
            "Requirement already satisfied: toml<2,>=0.10.1 in /usr/local/lib/python3.11/dist-packages (from streamlit) (0.10.2)\n",
            "Requirement already satisfied: typing-extensions<5,>=4.4.0 in /usr/local/lib/python3.11/dist-packages (from streamlit) (4.12.2)\n",
            "Collecting watchdog<7,>=2.1.5 (from streamlit)\n",
            "  Downloading watchdog-6.0.0-py3-none-manylinux2014_x86_64.whl.metadata (44 kB)\n",
            "\u001b[2K     \u001b[90m━━━━━━━━━━━━━━━━━━━━━━━━━━━━━━━━━━━━━━━━\u001b[0m \u001b[32m44.3/44.3 kB\u001b[0m \u001b[31m437.4 kB/s\u001b[0m eta \u001b[36m0:00:00\u001b[0m\n",
            "\u001b[?25hRequirement already satisfied: gitpython!=3.1.19,<4,>=3.0.7 in /usr/local/lib/python3.11/dist-packages (from streamlit) (3.1.44)\n",
            "Collecting pydeck<1,>=0.8.0b4 (from streamlit)\n",
            "  Downloading pydeck-0.9.1-py2.py3-none-any.whl.metadata (4.1 kB)\n",
            "Requirement already satisfied: tornado<7,>=6.0.3 in /usr/local/lib/python3.11/dist-packages (from streamlit) (6.4.2)\n",
            "Requirement already satisfied: jinja2 in /usr/local/lib/python3.11/dist-packages (from altair<6,>=4.0->streamlit) (3.1.5)\n",
            "Requirement already satisfied: jsonschema>=3.0 in /usr/local/lib/python3.11/dist-packages (from altair<6,>=4.0->streamlit) (4.23.0)\n",
            "Requirement already satisfied: narwhals>=1.14.2 in /usr/local/lib/python3.11/dist-packages (from altair<6,>=4.0->streamlit) (1.26.0)\n",
            "Requirement already satisfied: gitdb<5,>=4.0.1 in /usr/local/lib/python3.11/dist-packages (from gitpython!=3.1.19,<4,>=3.0.7->streamlit) (4.0.12)\n",
            "Requirement already satisfied: python-dateutil>=2.8.2 in /usr/local/lib/python3.11/dist-packages (from pandas<3,>=1.4.0->streamlit) (2.8.2)\n",
            "Requirement already satisfied: pytz>=2020.1 in /usr/local/lib/python3.11/dist-packages (from pandas<3,>=1.4.0->streamlit) (2025.1)\n",
            "Requirement already satisfied: tzdata>=2022.7 in /usr/local/lib/python3.11/dist-packages (from pandas<3,>=1.4.0->streamlit) (2025.1)\n",
            "Requirement already satisfied: charset-normalizer<4,>=2 in /usr/local/lib/python3.11/dist-packages (from requests<3,>=2.27->streamlit) (3.4.1)\n",
            "Requirement already satisfied: idna<4,>=2.5 in /usr/local/lib/python3.11/dist-packages (from requests<3,>=2.27->streamlit) (3.10)\n",
            "Requirement already satisfied: urllib3<3,>=1.21.1 in /usr/local/lib/python3.11/dist-packages (from requests<3,>=2.27->streamlit) (2.3.0)\n",
            "Requirement already satisfied: certifi>=2017.4.17 in /usr/local/lib/python3.11/dist-packages (from requests<3,>=2.27->streamlit) (2025.1.31)\n",
            "Requirement already satisfied: markdown-it-py>=2.2.0 in /usr/local/lib/python3.11/dist-packages (from rich<14,>=10.14.0->streamlit) (3.0.0)\n",
            "Requirement already satisfied: pygments<3.0.0,>=2.13.0 in /usr/local/lib/python3.11/dist-packages (from rich<14,>=10.14.0->streamlit) (2.18.0)\n",
            "Requirement already satisfied: smmap<6,>=3.0.1 in /usr/local/lib/python3.11/dist-packages (from gitdb<5,>=4.0.1->gitpython!=3.1.19,<4,>=3.0.7->streamlit) (5.0.2)\n",
            "Requirement already satisfied: MarkupSafe>=2.0 in /usr/local/lib/python3.11/dist-packages (from jinja2->altair<6,>=4.0->streamlit) (3.0.2)\n",
            "Requirement already satisfied: attrs>=22.2.0 in /usr/local/lib/python3.11/dist-packages (from jsonschema>=3.0->altair<6,>=4.0->streamlit) (25.1.0)\n",
            "Requirement already satisfied: jsonschema-specifications>=2023.03.6 in /usr/local/lib/python3.11/dist-packages (from jsonschema>=3.0->altair<6,>=4.0->streamlit) (2024.10.1)\n",
            "Requirement already satisfied: referencing>=0.28.4 in /usr/local/lib/python3.11/dist-packages (from jsonschema>=3.0->altair<6,>=4.0->streamlit) (0.36.2)\n",
            "Requirement already satisfied: rpds-py>=0.7.1 in /usr/local/lib/python3.11/dist-packages (from jsonschema>=3.0->altair<6,>=4.0->streamlit) (0.22.3)\n",
            "Requirement already satisfied: mdurl~=0.1 in /usr/local/lib/python3.11/dist-packages (from markdown-it-py>=2.2.0->rich<14,>=10.14.0->streamlit) (0.1.2)\n",
            "Requirement already satisfied: six>=1.5 in /usr/local/lib/python3.11/dist-packages (from python-dateutil>=2.8.2->pandas<3,>=1.4.0->streamlit) (1.17.0)\n",
            "Downloading streamlit-1.42.1-py2.py3-none-any.whl (9.6 MB)\n",
            "\u001b[2K   \u001b[90m━━━━━━━━━━━━━━━━━━━━━━━━━━━━━━━━━━━━━━━━\u001b[0m \u001b[32m9.6/9.6 MB\u001b[0m \u001b[31m23.6 MB/s\u001b[0m eta \u001b[36m0:00:00\u001b[0m\n",
            "\u001b[?25hDownloading pydeck-0.9.1-py2.py3-none-any.whl (6.9 MB)\n",
            "\u001b[2K   \u001b[90m━━━━━━━━━━━━━━━━━━━━━━━━━━━━━━━━━━━━━━━━\u001b[0m \u001b[32m6.9/6.9 MB\u001b[0m \u001b[31m28.7 MB/s\u001b[0m eta \u001b[36m0:00:00\u001b[0m\n",
            "\u001b[?25hDownloading watchdog-6.0.0-py3-none-manylinux2014_x86_64.whl (79 kB)\n",
            "\u001b[2K   \u001b[90m━━━━━━━━━━━━━━━━━━━━━━━━━━━━━━━━━━━━━━━━\u001b[0m \u001b[32m79.1/79.1 kB\u001b[0m \u001b[31m242.7 kB/s\u001b[0m eta \u001b[36m0:00:00\u001b[0m\n",
            "\u001b[?25hInstalling collected packages: watchdog, pydeck, streamlit\n",
            "Successfully installed pydeck-0.9.1 streamlit-1.42.1 watchdog-6.0.0\n"
          ]
        }
      ],
      "source": [
        "!pip install streamlit\n"
      ]
    },
    {
      "cell_type": "code",
      "execution_count": 4,
      "metadata": {
        "id": "RqfWorfKD99L"
      },
      "outputs": [],
      "source": [
        "import pandas as pd\n",
        "import plotly.express as px\n",
        "import requests\n",
        "import streamlit as st\n",
        "from openai import AzureOpenAI\n",
        "from sklearn.ensemble import RandomForestRegressor\n",
        "from sklearn.model_selection import train_test_split\n",
        "from statsmodels.tsa.arima.model import ARIMA\n",
        "from transformers import pipeline\n",
        "from datetime import datetime\n",
        "import json"
      ]
    },
    {
      "cell_type": "code",
      "execution_count": 5,
      "metadata": {
        "id": "VOfmW1mStTg_"
      },
      "outputs": [],
      "source": [
        "# API_KEY.py\n",
        "\n",
        "GROQ_API_KEY = \"your_groq_api_key_here\"\n",
        "SLACK_WEBHOOK_API_KEY = \"your_slack_webhook_api_key_here\"\n"
      ]
    },
    {
      "cell_type": "code",
      "execution_count": 6,
      "metadata": {
        "colab": {
          "base_uri": "https://localhost:8080/"
        },
        "id": "lnAnadU3EBfo",
        "outputId": "18ae8a37-34d3-41ea-9220-cff019ebb19b"
      },
      "outputs": [
        {
          "output_type": "stream",
          "name": "stdout",
          "text": [
            "Writing API_KEY.py\n"
          ]
        }
      ],
      "source": [
        "%%writefile API_KEY.py\n",
        "GROQ_API_KEY = \"your_groq_api_key_here\"\n",
        "SLACK_WEBHOOK_API_KEY = \"your_slack_webhook_api_key_here\"\n"
      ]
    },
    {
      "cell_type": "code",
      "execution_count": 7,
      "metadata": {
        "id": "bAlhVY3EED7v"
      },
      "outputs": [],
      "source": [
        "\n",
        "from API_KEY import GROQ_API_KEY\n",
        "from API_KEY import SLACK_WEBHOOK_API_KEY\n"
      ]
    },
    {
      "cell_type": "code",
      "execution_count": 8,
      "metadata": {
        "id": "oqB8LLJ-EHwM"
      },
      "outputs": [],
      "source": [
        "def truncate_text(text, max_length=512):\n",
        "    return text[:max_length]"
      ]
    },
    {
      "cell_type": "code",
      "execution_count": 9,
      "metadata": {
        "id": "lK_IQV7sELWT"
      },
      "outputs": [],
      "source": [
        "def load_competitor_data():\n",
        "    # load competitor data from competitor_data.csv\n",
        "    data = pd.read_csv(\"competitor_data.csv\")\n",
        "    print(\"competitor data loaded\")\n",
        "    print(data.head())\n",
        "    return data"
      ]
    },
    {
      "cell_type": "code",
      "execution_count": 10,
      "metadata": {
        "id": "8Y4zjAiKEPPr"
      },
      "outputs": [],
      "source": [
        "def load_reviews_data():\n",
        "    # load reviews data from reviews_data.csv\n",
        "    reviews = pd.read_csv(\"reviews.csv\")\n",
        "    print(\"reviews data loaded\")\n",
        "    print(reviews.head())\n",
        "    return reviews"
      ]
    },
    {
      "cell_type": "code",
      "execution_count": 11,
      "metadata": {
        "id": "jIMlCCK_ESkI"
      },
      "outputs": [],
      "source": [
        "def analyze_sentiment(reviews):\n",
        "    # analyze sentiment of text\n",
        "    sentiment_pipeline = pipeline(\"sentiment-analysis\")\n",
        "    return sentiment_pipeline(reviews)"
      ]
    },
    {
      "cell_type": "code",
      "execution_count": 12,
      "metadata": {
        "id": "C6OtAxuHEXUK"
      },
      "outputs": [],
      "source": [
        "def train_predictive_model(data):\n",
        "    data['discount'] = data['discount'].str.replace('%', '').astype(float)\n",
        "    data['price'] = data['price'].str.replace('$', '').astype(float)\n",
        "    data['predicted_discount'] = data['discount'] + (data['price'] * 0.05).round(2)\n",
        "\n",
        "    X = data[['price', 'discount']]\n",
        "    y = data['predicted_discount']\n",
        "    print(X)\n",
        "\n",
        "    X_train, X_test, y_train, y_test = train_test_split(\n",
        "        X, y, test_size=0.2, random_state=42\n",
        "        )\n",
        "\n",
        "    model = RandomForestRegressor(random_state=42)\n",
        "    model.fit(X_train, y_train)\n",
        "    return model"
      ]
    },
    {
      "cell_type": "code",
      "execution_count": 13,
      "metadata": {
        "id": "4KIwoyKfE0Zy"
      },
      "outputs": [],
      "source": [
        "import numpy as np\n",
        "import pandas as pd\n",
        "\n",
        "def forecast_discounts_arima(data,future_days = 5):\n",
        "    \"\"\"\n",
        "    Forcast future discounts using ARIMA model\n",
        "    :param data: pandas DataFrame historical discount data with datetime index\n",
        "    :param future_days: int number of days to forecast\n",
        "    :return: pandas DataFrame with historical and forecasted discount data\n",
        "    \"\"\"\n",
        "\n",
        "    data = data.sort_index()\n",
        "    print(product_data.index)\n",
        "\n",
        "    data['discount'] = pd.to_numeric(data['discount'], errors='coerce')\n",
        "    data = data.dropna(subset=['discount'])\n",
        "\n",
        "    discount_series = data['discount']\n",
        "    if not isinstance(data.index, pd.DatetimeIndex):\n",
        "        try:\n",
        "            data.index = pd.to_datetime(data.index)\n",
        "        except Exception as e:\n",
        "            raise ValueError(\n",
        "                \"Index could not be converted to datetime\"\n",
        "                ) from e\n",
        "\n",
        "    model = ARIMA(discount_series, order=(5,1,0))\n",
        "    model_fit = model.fit()\n",
        "\n",
        "    forecast = model_fit.forecast(steps=future_days)\n",
        "    future_dates = pd.date_range(\n",
        "        start=discount_series.index[-1] + pd.Timedelta(days=1), periods=future_days\n",
        "    )\n",
        "\n",
        "    forecast_df = pd.DataFrame({'date': future_dates, 'predicted_discount': forecast})\n",
        "    forecast_df.set_index('date', inplace=True)\n",
        "\n",
        "    return forecast_df\n"
      ]
    },
    {
      "cell_type": "code",
      "execution_count": 14,
      "metadata": {
        "id": "L4S7PbdLE6ci"
      },
      "outputs": [],
      "source": [
        "def send_to_slack(data):\n",
        "    # Send message to slack\n",
        "\n",
        "    payload = {\"text\": data}\n",
        "    response = requests.post(\n",
        "        SLACK_WEBHOOK,\n",
        "        data=json.dumps(payload),\n",
        "        headers={\"Content-Type\": \"application/json\"},\n",
        "    )"
      ]
    },
    {
      "cell_type": "code",
      "execution_count": 15,
      "metadata": {
        "id": "Q1eBvqmHFAme"
      },
      "outputs": [],
      "source": [
        "def generate_strategy_recommendation(product_name, competitor_data, sentiment):\n",
        "    # generate strategy recommendation using an LLM model\n",
        "    date = datetime.now()\n",
        "    prompt = f\"\"\"\n",
        "    You are a highly skilled business strategist specilizing in e-commerce.\n",
        "    Based on the following details,\n",
        "    suggest actionable strategies to optimize pricing,\n",
        "    promotions and customer satisfaction\n",
        "    for the selected product\n",
        "\n",
        "    1. Product Name: {product_name}\n",
        "\n",
        "    2. Competitor Data (inclusing current prices, discounts and predicted discounts):\n",
        "    {competitor_data}\n",
        "\n",
        "    3. Sentiment Analysis: {sentiment}\n",
        "\n",
        "    4. Today's Date: {str(date)}\n",
        "\n",
        "\n",
        "    ### Task:\n",
        "    - Analyze the competitor data and identify key pricing trends.\n",
        "    - Leverage the sentiment analysis to higlight areas where customer satisfaction can be improved.\n",
        "    - Use the discount predictions to suggest how pricing strategies can be optimized over next 5 days.\n",
        "    - Recommend promotional campaigns or marketing strategies that align with customer sentiment and competitive trends.\n",
        "    - Ensure the strategies are actionable, realistic, and geared towards increasing customer satisfaction, driving sales and maximizing profits.\n",
        "\n",
        "    Provide your recommendations in a structured format:\n",
        "    1. Pricing Strategy\n",
        "    2. Promotional Campaign Ideas\n",
        "    3. Customer Satisfaction Recommendations\n",
        "\n",
        "    \"\"\"\n",
        "\n",
        "    message = [{\"role\":\"user\",\"content\":prompt}]\n",
        "\n",
        "    data = {\n",
        "        \"messages\": message,\n",
        "        \"model\": \"llama3-8b-8192\",\n",
        "        \"temperature\" : 0\n",
        "    }\n",
        "\n",
        "    headers = {\"Context-Type\": \"application/json\", \"Authorization\": f\"Bearer {API_KEY}\"}\n",
        "\n",
        "    res = requests.post(\n",
        "        \"https://api.groq.com/openai/v1/chat/completions\",\n",
        "        data = json.dumps(data),\n",
        "        headers=headers,\n",
        "    )\n",
        "\n",
        "    print(\"API Response:\", res)\n",
        "\n",
        "    res = res.json()\n",
        "\n",
        "\n",
        "    response = res['choices'][0]['message']['content']\n",
        "    return response\n",
        "\n"
      ]
    },
    {
      "cell_type": "code",
      "execution_count": 16,
      "metadata": {
        "colab": {
          "base_uri": "https://localhost:8080/"
        },
        "id": "09o37sIgNm77",
        "outputId": "be6c8101-84f0-4c1b-97af-d68b43395ff0"
      },
      "outputs": [
        {
          "output_type": "stream",
          "name": "stderr",
          "text": [
            "2025-02-19 11:27:45.590 WARNING streamlit.runtime.scriptrunner_utils.script_run_context: Thread 'MainThread': missing ScriptRunContext! This warning can be ignored when running in bare mode.\n",
            "2025-02-19 11:27:45.591 WARNING streamlit.runtime.scriptrunner_utils.script_run_context: Thread 'MainThread': missing ScriptRunContext! This warning can be ignored when running in bare mode.\n",
            "2025-02-19 11:27:45.870 \n",
            "  \u001b[33m\u001b[1mWarning:\u001b[0m to view this Streamlit app on a browser, run it with the following\n",
            "  command:\n",
            "\n",
            "    streamlit run /usr/local/lib/python3.11/dist-packages/colab_kernel_launcher.py [ARGUMENTS]\n",
            "2025-02-19 11:27:45.870 Thread 'MainThread': missing ScriptRunContext! This warning can be ignored when running in bare mode.\n",
            "2025-02-19 11:27:45.873 Thread 'MainThread': missing ScriptRunContext! This warning can be ignored when running in bare mode.\n",
            "2025-02-19 11:27:45.875 Thread 'MainThread': missing ScriptRunContext! This warning can be ignored when running in bare mode.\n",
            "2025-02-19 11:27:45.876 Thread 'MainThread': missing ScriptRunContext! This warning can be ignored when running in bare mode.\n",
            "2025-02-19 11:27:45.878 Thread 'MainThread': missing ScriptRunContext! This warning can be ignored when running in bare mode.\n",
            "2025-02-19 11:27:45.880 Thread 'MainThread': missing ScriptRunContext! This warning can be ignored when running in bare mode.\n",
            "2025-02-19 11:27:45.881 Thread 'MainThread': missing ScriptRunContext! This warning can be ignored when running in bare mode.\n",
            "2025-02-19 11:27:45.882 Session state does not function when running a script without `streamlit run`\n",
            "2025-02-19 11:27:45.883 Thread 'MainThread': missing ScriptRunContext! This warning can be ignored when running in bare mode.\n",
            "2025-02-19 11:27:45.884 Thread 'MainThread': missing ScriptRunContext! This warning can be ignored when running in bare mode.\n",
            "2025-02-19 11:27:45.904 Thread 'MainThread': missing ScriptRunContext! This warning can be ignored when running in bare mode.\n",
            "2025-02-19 11:27:45.904 Thread 'MainThread': missing ScriptRunContext! This warning can be ignored when running in bare mode.\n",
            "2025-02-19 11:27:45.906 Thread 'MainThread': missing ScriptRunContext! This warning can be ignored when running in bare mode.\n",
            "2025-02-19 11:27:45.907 Thread 'MainThread': missing ScriptRunContext! This warning can be ignored when running in bare mode.\n",
            "2025-02-19 11:27:45.908 Thread 'MainThread': missing ScriptRunContext! This warning can be ignored when running in bare mode.\n",
            "2025-02-19 11:27:45.958 Thread 'MainThread': missing ScriptRunContext! This warning can be ignored when running in bare mode.\n",
            "2025-02-19 11:27:45.959 Thread 'MainThread': missing ScriptRunContext! This warning can be ignored when running in bare mode.\n",
            "<ipython-input-16-e1068ce9f42a>:54: SettingWithCopyWarning: \n",
            "A value is trying to be set on a copy of a slice from a DataFrame.\n",
            "Try using .loc[row_indexer,col_indexer] = value instead\n",
            "\n",
            "See the caveats in the documentation: https://pandas.pydata.org/pandas-docs/stable/user_guide/indexing.html#returning-a-view-versus-a-copy\n",
            "  product_reviews[\"reviews\"] = product_reviews[\"reviews\"].apply(lambda x: truncate_text(x, 512))\n",
            "2025-02-19 11:27:46.003 Thread 'MainThread': missing ScriptRunContext! This warning can be ignored when running in bare mode.\n",
            "2025-02-19 11:27:46.004 Thread 'MainThread': missing ScriptRunContext! This warning can be ignored when running in bare mode.\n",
            "2025-02-19 11:27:46.490 Thread 'MainThread': missing ScriptRunContext! This warning can be ignored when running in bare mode.\n",
            "2025-02-19 11:27:46.491 Thread 'MainThread': missing ScriptRunContext! This warning can be ignored when running in bare mode.\n",
            "2025-02-19 11:27:46.492 Thread 'MainThread': missing ScriptRunContext! This warning can be ignored when running in bare mode.\n",
            "2025-02-19 11:27:46.495 Thread 'MainThread': missing ScriptRunContext! This warning can be ignored when running in bare mode.\n"
          ]
        }
      ],
      "source": [
        "import pandas as pd\n",
        "import streamlit as st\n",
        "import plotly.express as px\n",
        "from textblob import TextBlob\n",
        "\n",
        "# Helper functions\n",
        "def load_competitor_data():\n",
        "    # Load competitor data from a file\n",
        "    return pd.DataFrame({\n",
        "        \"product_name\": [\"boAt Rockerz 255\", \"Oneplus Bullets Z2\", \"Realme Buds Wireless 3 Neo\", \"JBL Tune 215BT\"],\n",
        "        \"price\": [1500, 1800, 1600, 2000],\n",
        "        \"rating\": [4.2, 4.5, 4.0, 4.3],\n",
        "    })\n",
        "\n",
        "def load_reviews():\n",
        "    # Load reviews data from a file\n",
        "    return pd.DataFrame({\n",
        "        \"product_name\": [\"boAt Rockerz 255\", \"Oneplus Bullets Z2\", \"boAt Rockerz 255\"],\n",
        "        \"reviews\": [\"Great sound quality!\", \"Battery life could be better.\", \"Excellent value for money!\"]\n",
        "    })\n",
        "\n",
        "def truncate_text(text, max_length):\n",
        "    return text[:max_length] + \"...\" if len(text) > max_length else text\n",
        "\n",
        "def analyze_sentiment(reviews):\n",
        "    sentiments = [{\"text\": review, \"label\": \"Positive\" if TextBlob(review).sentiment.polarity > 0 else \"Negative\"} for review in reviews]\n",
        "    return sentiments\n",
        "\n",
        "# Streamlit app\n",
        "st.set_page_config(page_title=\"E-commerce Competitor Strategy Dashboard\", layout=\"wide\")\n",
        "st.title(\"E-commerce Competitor Strategy Dashboard\")\n",
        "st.sidebar.header(\"Select a Product\")\n",
        "\n",
        "products = [\n",
        "    \"boAt Rockerz 255\",\n",
        "    \"Oneplus Bullets Z2\",\n",
        "    \"Realme Buds Wireless 3 Neo\",\n",
        "    \"JBL Tune 215BT\"\n",
        "]\n",
        "\n",
        "selected_product = st.sidebar.selectbox(\"Select a Product to analyze\", products)\n",
        "\n",
        "competitor_data = load_competitor_data()\n",
        "reviews_data = load_reviews()\n",
        "\n",
        "product_data = competitor_data[competitor_data['product_name'] == selected_product]\n",
        "product_reviews = reviews_data[reviews_data['product_name'] == selected_product]\n",
        "\n",
        "st.header(f\"Competitor Analysis for {selected_product}\")\n",
        "st.subheader(\"Competitor Data\")\n",
        "st.table(product_data.tail(5))\n",
        "\n",
        "if not product_reviews.empty:\n",
        "    product_reviews[\"reviews\"] = product_reviews[\"reviews\"].apply(lambda x: truncate_text(x, 512))\n",
        "    reviews = product_reviews[\"reviews\"].tolist()\n",
        "    sentiments = analyze_sentiment(reviews)\n",
        "\n",
        "    st.subheader(\"Customer Sentiment Analysis\")\n",
        "    sentiment_df = pd.DataFrame(sentiments)\n",
        "\n",
        "    fig = px.bar(sentiment_df, x='label', title='Sentiment Analysis Results')\n",
        "    st.plotly_chart(fig)\n",
        "\n",
        "else:\n",
        "    st.write(\"No reviews data available for this product.\")\n"
      ]
    },
    {
      "cell_type": "code",
      "execution_count": 17,
      "metadata": {
        "colab": {
          "base_uri": "https://localhost:8080/"
        },
        "id": "0ET9V8gbt7gP",
        "outputId": "8e532596-783f-441c-9849-d053043d8644"
      },
      "outputs": [
        {
          "output_type": "stream",
          "name": "stderr",
          "text": [
            "<ipython-input-17-9e20dcb8b045>:4: SettingWithCopyWarning:\n",
            "\n",
            "\n",
            "A value is trying to be set on a copy of a slice from a DataFrame.\n",
            "Try using .loc[row_indexer,col_indexer] = value instead\n",
            "\n",
            "See the caveats in the documentation: https://pandas.pydata.org/pandas-docs/stable/user_guide/indexing.html#returning-a-view-versus-a-copy\n",
            "\n"
          ]
        }
      ],
      "source": [
        "import pandas as pd\n",
        "\n",
        "# Generate a sequential date column (example: daily dates starting from today)\n",
        "product_data['date'] = pd.date_range(start=\"2025-01-01\", periods=len(product_data), freq=\"D\")\n",
        "\n",
        "product_data.set_index(\"date\", inplace=True)\n",
        "product_data = product_data.sort_index()\n"
      ]
    },
    {
      "cell_type": "code",
      "execution_count": 18,
      "metadata": {
        "colab": {
          "base_uri": "https://localhost:8080/"
        },
        "id": "-nGoaXhKt-lN",
        "outputId": "fa7cd285-f112-40a1-c298-fbf468882f31"
      },
      "outputs": [
        {
          "output_type": "stream",
          "name": "stdout",
          "text": [
            "'date' column is missing. Skipping date-related processing.\n",
            "Column 'discount' does not exist in product_data.\n"
          ]
        }
      ],
      "source": [
        "# Check for the 'date' column\n",
        "if 'date' in product_data.columns:\n",
        "    product_data['date'] = pd.to_datetime(product_data['date'], errors='coerce')\n",
        "    product_data = product_data.dropna(subset=['date'])\n",
        "    product_data.set_index(\"date\", inplace=True)\n",
        "    product_data = product_data.sort_index()\n",
        "else:\n",
        "    print(\"'date' column is missing. Skipping date-related processing.\")\n",
        "\n",
        "# Process 'discount' column\n",
        "if 'discount' in product_data.columns:\n",
        "    product_data['discount'] = pd.to_numeric(product_data['discount'], errors='coerce')\n",
        "    product_data = product_data.dropna(subset=['discount'])\n",
        "else:\n",
        "    print(\"Column 'discount' does not exist in product_data.\")\n"
      ]
    },
    {
      "cell_type": "code",
      "execution_count": 19,
      "metadata": {
        "colab": {
          "base_uri": "https://localhost:8080/"
        },
        "id": "wqRjxKP0Ioq7",
        "outputId": "543e6b67-6c39-46c1-e1f8-6c1ce97c4ac1"
      },
      "outputs": [
        {
          "output_type": "stream",
          "name": "stdout",
          "text": [
            "35.188.252.251\n"
          ]
        }
      ],
      "source": [
        "!wget -q -O - ipv4.icanhazip.com"
      ]
    },
    {
      "cell_type": "code",
      "execution_count": 20,
      "metadata": {
        "colab": {
          "base_uri": "https://localhost:8080/"
        },
        "id": "p5H0awc4JJhh",
        "outputId": "53934f69-e02b-47a8-c65b-1b6e8884e14e"
      },
      "outputs": [
        {
          "output_type": "stream",
          "name": "stdout",
          "text": [
            "                product_name  price  rating\n",
            "date                                       \n",
            "2025-01-01  boAt Rockerz 255   1500     4.2\n"
          ]
        }
      ],
      "source": [
        "import pandas as pd\n",
        "\n",
        "# Generate a sequential date column starting from a fixed date\n",
        "start_date = \"2025-01-01\"  # Replace with your desired start date\n",
        "product_data['date'] = pd.date_range(start=start_date, periods=len(product_data), freq=\"D\")\n",
        "\n",
        "product_data.set_index(\"date\", inplace=True)\n",
        "product_data = product_data.sort_index()\n",
        "\n",
        "print(product_data.head())\n"
      ]
    },
    {
      "cell_type": "code",
      "execution_count": 21,
      "metadata": {
        "colab": {
          "base_uri": "https://localhost:8080/"
        },
        "id": "0yENUASzJMFv",
        "outputId": "107e5479-477d-4091-ae3c-bbf5e8fa96ac"
      },
      "outputs": [
        {
          "output_type": "stream",
          "name": "stdout",
          "text": [
            "Writing app.py\n"
          ]
        }
      ],
      "source": [
        "%%writefile app.py\n",
        "import streamlit as st\n",
        "\n",
        "st.title(\"My Streamlit App\")\n",
        "st.write(\"Hello, welcome to my app!\")\n"
      ]
    },
    {
      "cell_type": "code",
      "execution_count": 23,
      "metadata": {
        "colab": {
          "base_uri": "https://localhost:8080/"
        },
        "id": "ll3GCJdtJSgp",
        "outputId": "fd76a3a0-e427-45a1-85c4-42f91938d785"
      },
      "outputs": [
        {
          "output_type": "stream",
          "name": "stdout",
          "text": [
            "Overwriting app.py\n"
          ]
        }
      ],
      "source": [
        "%%writefile app.py\n",
        "import streamlit as st\n",
        "\n",
        "st.title(\"My Streamlit App\")\n",
        "st.write(\"Hello, welcome to my app!\")\n"
      ]
    },
    {
      "cell_type": "code",
      "execution_count": 24,
      "metadata": {
        "id": "pdRAnusjJVrz"
      },
      "outputs": [],
      "source": [
        "! pip install streamlit -q"
      ]
    },
    {
      "cell_type": "code",
      "execution_count": 25,
      "metadata": {
        "colab": {
          "base_uri": "https://localhost:8080/"
        },
        "id": "2v81ezrEJYvX",
        "outputId": "0ef48601-f38d-4719-9400-3717c44fd386"
      },
      "outputs": [
        {
          "output_type": "stream",
          "name": "stdout",
          "text": [
            "35.188.252.251\n"
          ]
        }
      ],
      "source": [
        "!wget -q -O - ipv4.icanhazip.com"
      ]
    },
    {
      "cell_type": "code",
      "execution_count": 26,
      "metadata": {
        "colab": {
          "base_uri": "https://localhost:8080/"
        },
        "id": "dtInxknvJb8y",
        "outputId": "29b6a5b3-7a0d-4d53-cbc8-71488aacedb8"
      },
      "outputs": [
        {
          "output_type": "stream",
          "name": "stderr",
          "text": [
            "2025-02-19 11:29:22.257 Thread 'MainThread': missing ScriptRunContext! This warning can be ignored when running in bare mode.\n",
            "2025-02-19 11:29:22.259 Thread 'MainThread': missing ScriptRunContext! This warning can be ignored when running in bare mode.\n",
            "2025-02-19 11:29:22.262 Thread 'MainThread': missing ScriptRunContext! This warning can be ignored when running in bare mode.\n",
            "2025-02-19 11:29:22.264 Thread 'MainThread': missing ScriptRunContext! This warning can be ignored when running in bare mode.\n",
            "2025-02-19 11:29:22.265 Thread 'MainThread': missing ScriptRunContext! This warning can be ignored when running in bare mode.\n",
            "2025-02-19 11:29:22.266 Thread 'MainThread': missing ScriptRunContext! This warning can be ignored when running in bare mode.\n",
            "2025-02-19 11:29:22.267 Thread 'MainThread': missing ScriptRunContext! This warning can be ignored when running in bare mode.\n",
            "2025-02-19 11:29:22.269 Thread 'MainThread': missing ScriptRunContext! This warning can be ignored when running in bare mode.\n",
            "2025-02-19 11:29:22.270 Thread 'MainThread': missing ScriptRunContext! This warning can be ignored when running in bare mode.\n",
            "2025-02-19 11:29:22.271 Thread 'MainThread': missing ScriptRunContext! This warning can be ignored when running in bare mode.\n",
            "2025-02-19 11:29:22.274 Thread 'MainThread': missing ScriptRunContext! This warning can be ignored when running in bare mode.\n"
          ]
        }
      ],
      "source": [
        "import streamlit as st\n",
        "import pandas as pd\n",
        "import matplotlib.pyplot as plt\n",
        "\n",
        "# Title of the dashboard\n",
        "st.title(\"E-commerce Competitor Strategy Dashboard\")\n",
        "\n",
        "# File upload section\n",
        "uploaded_file = st.sidebar.file_uploader(\"Upload a CSV file\", type=[\"csv\"])\n",
        "\n",
        "if uploaded_file:\n",
        "    # Load the CSV file into a DataFrame\n",
        "    df = pd.read_csv(uploaded_file)\n",
        "\n",
        "    # Ensure necessary columns exist in the file\n",
        "    required_columns = {\"product_name\", \"price\", \"discount\", \"date\"}\n",
        "    if not required_columns.issubset(df.columns):\n",
        "        st.error(f\"CSV file must contain the following columns: {', '.join(required_columns)}\")\n",
        "    else:\n",
        "        # Sidebar for product selection\n",
        "        st.sidebar.header(\"Select a Product\")\n",
        "        selected_product = st.sidebar.selectbox(\n",
        "            \"Select a Product to analyze\", df[\"product_name\"].unique()\n",
        "        )\n",
        "\n",
        "        # Competitor Analysis\n",
        "        st.subheader(f\"Competitor Analysis for {selected_product}\")\n",
        "        product_data = df[df[\"product_name\"] == selected_product]\n",
        "        st.table(product_data)\n",
        "\n",
        "        # Customer Sentiment Analysis (Simulated data)\n",
        "        st.subheader(\"Customer Sentiment Analysis\")\n",
        "        # Simulate sentiment data dynamically (replace with real analysis if available)\n",
        "        sentiment_data = {\"NEGATIVE\": 25, \"POSITIVE\": 25}\n",
        "\n",
        "        # Plotting Sentiment Analysis Results\n",
        "        fig, ax = plt.subplots()\n",
        "        ax.bar(sentiment_data.keys(), sentiment_data.values(), color=\"skyblue\")\n",
        "        ax.set_title(\"Sentiment Analysis Results\")\n",
        "        ax.set_ylabel(\"Count\")\n",
        "        ax.set_xlabel(\"Sentiment\")\n",
        "\n",
        "        # Display Sentiment Analysis Plot\n",
        "        st.pyplot(fig)\n",
        "\n",
        "        # Product Recommendations\n",
        "        st.subheader(\"Product Recommendations\")\n",
        "\n",
        "        # Generate Recommendations (based on price and discount)\n",
        "        recommendation_data = df[df[\"product_name\"] != selected_product]\n",
        "        recommendations = recommendation_data.sort_values(\n",
        "            by=[\"discount\", \"price\"], ascending=[False, True]\n",
        "        ).head(3)\n",
        "\n",
        "        if not recommendations.empty:\n",
        "            recommendations = recommendations[[\"product_name\", \"price\", \"discount\"]]\n",
        "            recommendations.rename(\n",
        "                columns={\n",
        "                    \"product_name\": \"Recommended Product\",\n",
        "                    \"price\": \"Price\",\n",
        "                    \"discount\": \"Discount (%)\",\n",
        "                },\n",
        "                inplace=True,\n",
        "            )\n",
        "            st.write(\"Based on your selected product, here are some recommendations:\")\n",
        "            st.table(recommendations)\n",
        "        else:\n",
        "            st.write(\"No recommendations available.\")\n",
        "else:\n",
        "    st.write(\"Please upload competitor_data.csv to begin analysis.\")"
      ]
    },
    {
      "cell_type": "code",
      "execution_count": null,
      "metadata": {
        "colab": {
          "background_save": true,
          "base_uri": "https://localhost:8080/"
        },
        "id": "E3uWPxLaJe6i",
        "outputId": "1850314b-4e5f-4f3c-84b6-7992828e47f3"
      },
      "outputs": [
        {
          "output_type": "stream",
          "name": "stdout",
          "text": [
            "\n",
            "Collecting usage statistics. To deactivate, set browser.gatherUsageStats to false.\n",
            "\u001b[0m\n",
            "\u001b[1G\u001b[0K⠙\u001b[0m\n",
            "\u001b[34m\u001b[1m  You can now view your Streamlit app in your browser.\u001b[0m\n",
            "\u001b[0m\n",
            "\u001b[34m  Local URL: \u001b[0m\u001b[1mhttp://localhost:8501\u001b[0m\n",
            "\u001b[34m  Network URL: \u001b[0m\u001b[1mhttp://172.28.0.12:8501\u001b[0m\n",
            "\u001b[34m  External URL: \u001b[0m\u001b[1mhttp://35.188.252.251:8501\u001b[0m\n",
            "\u001b[0m\n",
            "\u001b[1G\u001b[0K⠹\u001b[1G\u001b[0K⠸\u001b[1G\u001b[0K⠼\u001b[1G\u001b[0K⠴\u001b[1G\u001b[0K⠦\u001b[1G\u001b[0K\u001b[1G\u001b[0JNeed to install the following packages:\n",
            "localtunnel@2.0.2\n",
            "Ok to proceed? (y) \u001b[20Gy\n",
            "\n",
            "\u001b[1G\u001b[0K⠙\u001b[1G\u001b[0K⠹\u001b[1G\u001b[0K⠸\u001b[1G\u001b[0K⠼\u001b[1G\u001b[0K⠴\u001b[1G\u001b[0K⠦\u001b[1G\u001b[0K⠧\u001b[1G\u001b[0K⠇\u001b[1G\u001b[0K⠏\u001b[1G\u001b[0K⠋\u001b[1G\u001b[0K⠙\u001b[1G\u001b[0K⠹\u001b[1G\u001b[0K⠸\u001b[1G\u001b[0K⠼\u001b[1G\u001b[0K⠴\u001b[1G\u001b[0K⠦\u001b[1G\u001b[0K⠧\u001b[1G\u001b[0K⠇\u001b[1G\u001b[0K⠏\u001b[1G\u001b[0K⠋\u001b[1G\u001b[0K⠙\u001b[1G\u001b[0K⠹\u001b[1G\u001b[0K⠸\u001b[1G\u001b[0K⠼\u001b[1G\u001b[0K⠴\u001b[1G\u001b[0K⠦\u001b[1G\u001b[0K⠧\u001b[1G\u001b[0K⠇\u001b[1G\u001b[0K⠏\u001b[1G\u001b[0K⠋\u001b[1G\u001b[0Kyour url is: https://major-years-cover.loca.lt\n"
          ]
        }
      ],
      "source": [
        "! streamlit run app.py & npx localtunnel --port 8501"
      ]
    }
  ],
  "metadata": {
    "colab": {
      "provenance": [],
      "authorship_tag": "ABX9TyMxZfFUq9mnHOkt2E2ZShrt",
      "include_colab_link": true
    },
    "kernelspec": {
      "display_name": "Python 3",
      "name": "python3"
    },
    "language_info": {
      "name": "python"
    }
  },
  "nbformat": 4,
  "nbformat_minor": 0
}